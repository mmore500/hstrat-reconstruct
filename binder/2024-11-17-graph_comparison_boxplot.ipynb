{
 "cells": [
  {
   "cell_type": "code",
   "execution_count": null,
   "metadata": {},
   "outputs": [],
   "source": [
    "!pip install teeplot\n",
    "import teeplot as tp\n"
   ]
  },
  {
   "cell_type": "code",
   "execution_count": null,
   "metadata": {},
   "outputs": [],
   "source": [
    "import pandas as pd\n",
    "import matplotlib.pyplot as plt\n",
    "import seaborn as sns\n",
    "\n",
    "# Define OSF identifiers\n",
    "consolidating_trie_id = \"85nhu\"\n",
    "searchtable_id = \"6k5jn\"\n",
    "niave_trie_id = \"4egpc\"\n",
    "\n",
    "# Load CSV files into DataFrames directly from OSF URLs\n",
    "consolidating_trie_df = pd.read_csv(f\"https://osf.io/{consolidating_trie_id}/download\")\n",
    "searchtable_df = pd.read_csv(f\"https://osf.io/{searchtable_id}/download\")\n",
    "niave_trie_df = pd.read_csv(f\"https://osf.io/{niave_trie_id}/download\")\n",
    "\n",
    "# Add 'Type' column to each DataFrame\n",
    "consolidating_trie_df['Type'] = 'Consolidating Trie'\n",
    "searchtable_df['Type'] = 'Search Table'\n",
    "niave_trie_df['Type'] = 'Naive Trie'\n",
    "\n",
    "# Rename columns for consistency\n",
    "consolidating_trie_df.rename(columns={'Real Time (s)': 'run_time', 'CPU Time (s)': 'cpu_time', 'Selection Type': 'selection_type'}, inplace=True)\n",
    "searchtable_df.rename(columns={'Real Time (s)': 'run_time', 'CPU Time (s)': 'cpu_time', 'Selection Type': 'selection_type'}, inplace=True)\n",
    "niave_trie_df.rename(columns={'Real Time (s)': 'run_time', 'CPU Time (s)': 'cpu_time', 'Selection Type': 'selection_type'}, inplace=True)\n",
    "\n",
    "# Concatenate all DataFrames\n",
    "combined_df = pd.concat([consolidating_trie_df, searchtable_df, niave_trie_df])\n",
    "\n",
    "# Set Seaborn style\n",
    "sns.set(style='whitegrid')\n",
    "\n",
    "# Create a boxplot to compare real times without showing outliers\n",
    "plt.figure(figsize=(10, 6))\n",
    "sns.boxplot(x='Type', y='run_time', data=combined_df, showfliers=False)\n",
    "plt.title('Comparison of Real Times for Implementations')\n",
    "plt.xlabel('Implementation')\n",
    "plt.ylabel('Real Time (s)')\n",
    "\n",
    "# Create a boxplot to compare CPU times without showing outliers\n",
    "plt.figure(figsize=(10, 6))\n",
    "sns.boxplot(x='Type', y='cpu_time', data=combined_df, showfliers=False)\n",
    "plt.title('Comparison of CPU Times for Implementations')\n",
    "plt.xlabel('Implementation')\n",
    "plt.ylabel('CPU Time (s)')\n",
    "\n",
    "plt.show()\n"
   ]
  }
 ],
 "metadata": {
  "colab": {
   "provenance": []
  },
  "kernelspec": {
   "display_name": "Python 3",
   "name": "python3"
  },
  "language_info": {
   "name": "python"
  }
 },
 "nbformat": 4,
 "nbformat_minor": 0
}
